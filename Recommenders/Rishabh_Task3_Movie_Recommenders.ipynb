{
  "metadata": {
    "kernelspec": {
      "language": "python",
      "display_name": "Python 3",
      "name": "python3"
    },
    "language_info": {
      "name": "python",
      "version": "3.7.12",
      "mimetype": "text/x-python",
      "codemirror_mode": {
        "name": "ipython",
        "version": 3
      },
      "pygments_lexer": "ipython3",
      "nbconvert_exporter": "python",
      "file_extension": ".py"
    },
    "colab": {
      "name": "Rishabh_Task3_Movie_Recommenders.ipynb",
      "provenance": []
    }
  },
  "nbformat_minor": 0,
  "nbformat": 4,
  "cells": [
    {
      "cell_type": "code",
      "source": [
        "# This Python 3 environment comes with many helpful analytics libraries installed\n",
        "# It is defined by the kaggle/python Docker image: https://github.com/kaggle/docker-python\n",
        "# For example, here's several helpful packages to load\n",
        "\n",
        "import numpy as np # linear algebra\n",
        "import pandas as pd # data processing, CSV file I/O (e.g. pd.read_csv)\n",
        "\n",
        "# Input data files are available in the read-only \"../input/\" directory\n",
        "# For example, running this (by clicking run or pressing Shift+Enter) will list all files under the input directory\n",
        "\n",
        "import os\n",
        "for dirname, _, filenames in os.walk('/kaggle/input'):\n",
        "    for filename in filenames:\n",
        "        print(os.path.join(dirname, filename))\n",
        "\n",
        "# You can write up to 20GB to the current directory (/kaggle/working/) that gets preserved as output when you create a version using \"Save & Run All\" \n",
        "# You can also write temporary files to /kaggle/temp/, but they won't be saved outside of the current session"
      ],
      "metadata": {
        "_uuid": "8f2839f25d086af736a60e9eeb907d3b93b6e0e5",
        "_cell_guid": "b1076dfc-b9ad-4769-8c92-a6c4dae69d19",
        "execution": {
          "iopub.status.busy": "2022-03-23T14:25:59.519423Z",
          "iopub.execute_input": "2022-03-23T14:25:59.519710Z",
          "iopub.status.idle": "2022-03-23T14:25:59.529004Z",
          "shell.execute_reply.started": "2022-03-23T14:25:59.519678Z",
          "shell.execute_reply": "2022-03-23T14:25:59.528108Z"
        },
        "trusted": true,
        "id": "zu7Dk8PMMhdK"
      },
      "execution_count": null,
      "outputs": []
    },
    {
      "cell_type": "code",
      "source": [
        "import numpy as np\n",
        "import pandas as pd\n",
        "import matplotlib.pyplot as plt \n",
        "import sys\n",
        "import pickle"
      ],
      "metadata": {
        "execution": {
          "iopub.status.busy": "2022-03-23T14:25:59.637152Z",
          "iopub.execute_input": "2022-03-23T14:25:59.637730Z",
          "iopub.status.idle": "2022-03-23T14:25:59.642199Z",
          "shell.execute_reply.started": "2022-03-23T14:25:59.637687Z",
          "shell.execute_reply": "2022-03-23T14:25:59.641363Z"
        },
        "trusted": true,
        "id": "4S-L4720MhdX"
      },
      "execution_count": null,
      "outputs": []
    },
    {
      "cell_type": "code",
      "source": [
        "movies = pd.read_csv('/home/movielens/movies.csv')\n",
        "tags = pd.read_csv('/home/movielens/tags.csv')\n",
        "ratings = pd.read_csv('/home/movielens/ratings.csv')"
      ],
      "metadata": {
        "execution": {
          "iopub.status.busy": "2022-03-23T14:25:59.801754Z",
          "iopub.execute_input": "2022-03-23T14:25:59.802200Z",
          "iopub.status.idle": "2022-03-23T14:26:08.122087Z",
          "shell.execute_reply.started": "2022-03-23T14:25:59.802163Z",
          "shell.execute_reply": "2022-03-23T14:26:08.121315Z"
        },
        "trusted": true,
        "id": "2SuorhOVMhda"
      },
      "execution_count": null,
      "outputs": []
    },
    {
      "cell_type": "code",
      "source": [
        "len(movies.movieId.unique())"
      ],
      "metadata": {
        "execution": {
          "iopub.status.busy": "2022-03-23T14:26:08.123629Z",
          "iopub.execute_input": "2022-03-23T14:26:08.123870Z",
          "iopub.status.idle": "2022-03-23T14:26:08.132687Z",
          "shell.execute_reply.started": "2022-03-23T14:26:08.123836Z",
          "shell.execute_reply": "2022-03-23T14:26:08.131820Z"
        },
        "trusted": true,
        "colab": {
          "base_uri": "https://localhost:8080/"
        },
        "id": "qEGBeJMFMhdc",
        "outputId": "21a54239-a6b4-40f9-f7ce-27bd477a7f73"
      },
      "execution_count": null,
      "outputs": [
        {
          "output_type": "execute_result",
          "data": {
            "text/plain": [
              "27278"
            ]
          },
          "metadata": {},
          "execution_count": 4
        }
      ]
    },
    {
      "cell_type": "code",
      "source": [
        "len(ratings.movieId.unique())"
      ],
      "metadata": {
        "execution": {
          "iopub.status.busy": "2022-03-23T14:26:08.134334Z",
          "iopub.execute_input": "2022-03-23T14:26:08.134763Z",
          "iopub.status.idle": "2022-03-23T14:26:08.287596Z",
          "shell.execute_reply.started": "2022-03-23T14:26:08.134723Z",
          "shell.execute_reply": "2022-03-23T14:26:08.286805Z"
        },
        "trusted": true,
        "colab": {
          "base_uri": "https://localhost:8080/"
        },
        "id": "KFUCUKulMhdd",
        "outputId": "73db95ab-7b33-46de-8a0b-ec3027be4c5d"
      },
      "execution_count": null,
      "outputs": [
        {
          "output_type": "execute_result",
          "data": {
            "text/plain": [
              "17082"
            ]
          },
          "metadata": {},
          "execution_count": 5
        }
      ]
    },
    {
      "cell_type": "markdown",
      "source": [
        "### Filtering "
      ],
      "metadata": {
        "id": "GuJXkAKZMhde"
      }
    },
    {
      "cell_type": "code",
      "source": [
        "ratings_f = ratings.groupby('userId').filter(lambda x: len(x) >= 55)"
      ],
      "metadata": {
        "execution": {
          "iopub.status.busy": "2022-03-23T14:26:08.289528Z",
          "iopub.execute_input": "2022-03-23T14:26:08.290856Z",
          "iopub.status.idle": "2022-03-23T14:26:13.454156Z",
          "shell.execute_reply.started": "2022-03-23T14:26:08.290811Z",
          "shell.execute_reply": "2022-03-23T14:26:13.453400Z"
        },
        "trusted": true,
        "id": "CXEjzjdtMhdk"
      },
      "execution_count": null,
      "outputs": []
    },
    {
      "cell_type": "code",
      "source": [
        "len(ratings_f.movieId.unique())/len(movies.movieId.unique()) * 100"
      ],
      "metadata": {
        "execution": {
          "iopub.status.busy": "2022-03-23T14:26:13.455324Z",
          "iopub.execute_input": "2022-03-23T14:26:13.456171Z",
          "iopub.status.idle": "2022-03-23T14:26:13.567730Z",
          "shell.execute_reply.started": "2022-03-23T14:26:13.456131Z",
          "shell.execute_reply": "2022-03-23T14:26:13.566845Z"
        },
        "trusted": true,
        "colab": {
          "base_uri": "https://localhost:8080/"
        },
        "id": "lht7PfuRMhdm",
        "outputId": "aa084c6e-9371-40b0-9cdf-e3335da48b8b"
      },
      "execution_count": null,
      "outputs": [
        {
          "output_type": "execute_result",
          "data": {
            "text/plain": [
              "62.36527604663098"
            ]
          },
          "metadata": {},
          "execution_count": 7
        }
      ]
    },
    {
      "cell_type": "code",
      "source": [
        "#limit ratings to user ratings that have rated more that 55 movies -- \n",
        "#Otherwise it becomes impossible to pivot the rating dataframe later for collaborative filtering.\n",
        "\n",
        "ratings_f = ratings.groupby('userId').filter(lambda x: len(x) >= 55)\n",
        "\n",
        "# list the movie titles that survive the filtering\n",
        "movie_list_rating = ratings_f.movieId.unique().tolist()"
      ],
      "metadata": {
        "execution": {
          "iopub.status.busy": "2022-03-23T14:26:13.569098Z",
          "iopub.execute_input": "2022-03-23T14:26:13.569449Z",
          "iopub.status.idle": "2022-03-23T14:26:18.551164Z",
          "shell.execute_reply.started": "2022-03-23T14:26:13.569410Z",
          "shell.execute_reply": "2022-03-23T14:26:18.550394Z"
        },
        "trusted": true,
        "id": "CKwHAZAcMhdo"
      },
      "execution_count": null,
      "outputs": []
    },
    {
      "cell_type": "code",
      "source": [
        "len(ratings_f.movieId.unique())/len(movies.movieId.unique()) * 100"
      ],
      "metadata": {
        "execution": {
          "iopub.status.busy": "2022-03-23T14:26:18.552436Z",
          "iopub.execute_input": "2022-03-23T14:26:18.552785Z",
          "iopub.status.idle": "2022-03-23T14:26:18.661739Z",
          "shell.execute_reply.started": "2022-03-23T14:26:18.552746Z",
          "shell.execute_reply": "2022-03-23T14:26:18.661032Z"
        },
        "trusted": true,
        "colab": {
          "base_uri": "https://localhost:8080/"
        },
        "id": "Jn5d5GcBMhdq",
        "outputId": "3569ea01-2c94-42ea-92df-591bc43e14d7"
      },
      "execution_count": null,
      "outputs": [
        {
          "output_type": "execute_result",
          "data": {
            "text/plain": [
              "62.36527604663098"
            ]
          },
          "metadata": {},
          "execution_count": 9
        }
      ]
    },
    {
      "cell_type": "code",
      "source": [
        "len(ratings_f.userId.unique())/len(ratings.userId.unique()) * 100"
      ],
      "metadata": {
        "execution": {
          "iopub.status.busy": "2022-03-23T14:26:18.663031Z",
          "iopub.execute_input": "2022-03-23T14:26:18.663567Z",
          "iopub.status.idle": "2022-03-23T14:26:18.859300Z",
          "shell.execute_reply.started": "2022-03-23T14:26:18.663524Z",
          "shell.execute_reply": "2022-03-23T14:26:18.858427Z"
        },
        "trusted": true,
        "colab": {
          "base_uri": "https://localhost:8080/"
        },
        "id": "FrKuv4cCMhdr",
        "outputId": "09aad7e5-209b-4b8f-b037-db7a7a793d6d"
      },
      "execution_count": null,
      "outputs": [
        {
          "output_type": "execute_result",
          "data": {
            "text/plain": [
              "58.26926867731126"
            ]
          },
          "metadata": {},
          "execution_count": 10
        }
      ]
    },
    {
      "cell_type": "code",
      "source": [
        "movies = movies[movies.movieId.isin(movie_list_rating)]"
      ],
      "metadata": {
        "execution": {
          "iopub.status.busy": "2022-03-23T14:26:18.860750Z",
          "iopub.execute_input": "2022-03-23T14:26:18.861021Z",
          "iopub.status.idle": "2022-03-23T14:26:18.876211Z",
          "shell.execute_reply.started": "2022-03-23T14:26:18.860985Z",
          "shell.execute_reply": "2022-03-23T14:26:18.875401Z"
        },
        "trusted": true,
        "id": "dYBJt3WOMhdu"
      },
      "execution_count": null,
      "outputs": []
    },
    {
      "cell_type": "code",
      "source": [
        "movies.head(5)"
      ],
      "metadata": {
        "execution": {
          "iopub.status.busy": "2022-03-23T14:26:18.879467Z",
          "iopub.execute_input": "2022-03-23T14:26:18.879937Z",
          "iopub.status.idle": "2022-03-23T14:26:18.892699Z",
          "shell.execute_reply.started": "2022-03-23T14:26:18.879905Z",
          "shell.execute_reply": "2022-03-23T14:26:18.891934Z"
        },
        "trusted": true,
        "colab": {
          "base_uri": "https://localhost:8080/",
          "height": 206
        },
        "id": "6K6tPeKtMhdu",
        "outputId": "ec1f6df3-bb38-479d-a160-f6c9c905054c"
      },
      "execution_count": null,
      "outputs": [
        {
          "output_type": "execute_result",
          "data": {
            "text/plain": [
              "   movieId                               title  \\\n",
              "0        1                    Toy Story (1995)   \n",
              "1        2                      Jumanji (1995)   \n",
              "2        3             Grumpier Old Men (1995)   \n",
              "3        4            Waiting to Exhale (1995)   \n",
              "4        5  Father of the Bride Part II (1995)   \n",
              "\n",
              "                                        genres  \n",
              "0  Adventure|Animation|Children|Comedy|Fantasy  \n",
              "1                   Adventure|Children|Fantasy  \n",
              "2                               Comedy|Romance  \n",
              "3                         Comedy|Drama|Romance  \n",
              "4                                       Comedy  "
            ],
            "text/html": [
              "\n",
              "  <div id=\"df-70f63ef0-a91e-4826-b775-d43bc8ba87ab\">\n",
              "    <div class=\"colab-df-container\">\n",
              "      <div>\n",
              "<style scoped>\n",
              "    .dataframe tbody tr th:only-of-type {\n",
              "        vertical-align: middle;\n",
              "    }\n",
              "\n",
              "    .dataframe tbody tr th {\n",
              "        vertical-align: top;\n",
              "    }\n",
              "\n",
              "    .dataframe thead th {\n",
              "        text-align: right;\n",
              "    }\n",
              "</style>\n",
              "<table border=\"1\" class=\"dataframe\">\n",
              "  <thead>\n",
              "    <tr style=\"text-align: right;\">\n",
              "      <th></th>\n",
              "      <th>movieId</th>\n",
              "      <th>title</th>\n",
              "      <th>genres</th>\n",
              "    </tr>\n",
              "  </thead>\n",
              "  <tbody>\n",
              "    <tr>\n",
              "      <th>0</th>\n",
              "      <td>1</td>\n",
              "      <td>Toy Story (1995)</td>\n",
              "      <td>Adventure|Animation|Children|Comedy|Fantasy</td>\n",
              "    </tr>\n",
              "    <tr>\n",
              "      <th>1</th>\n",
              "      <td>2</td>\n",
              "      <td>Jumanji (1995)</td>\n",
              "      <td>Adventure|Children|Fantasy</td>\n",
              "    </tr>\n",
              "    <tr>\n",
              "      <th>2</th>\n",
              "      <td>3</td>\n",
              "      <td>Grumpier Old Men (1995)</td>\n",
              "      <td>Comedy|Romance</td>\n",
              "    </tr>\n",
              "    <tr>\n",
              "      <th>3</th>\n",
              "      <td>4</td>\n",
              "      <td>Waiting to Exhale (1995)</td>\n",
              "      <td>Comedy|Drama|Romance</td>\n",
              "    </tr>\n",
              "    <tr>\n",
              "      <th>4</th>\n",
              "      <td>5</td>\n",
              "      <td>Father of the Bride Part II (1995)</td>\n",
              "      <td>Comedy</td>\n",
              "    </tr>\n",
              "  </tbody>\n",
              "</table>\n",
              "</div>\n",
              "      <button class=\"colab-df-convert\" onclick=\"convertToInteractive('df-70f63ef0-a91e-4826-b775-d43bc8ba87ab')\"\n",
              "              title=\"Convert this dataframe to an interactive table.\"\n",
              "              style=\"display:none;\">\n",
              "        \n",
              "  <svg xmlns=\"http://www.w3.org/2000/svg\" height=\"24px\"viewBox=\"0 0 24 24\"\n",
              "       width=\"24px\">\n",
              "    <path d=\"M0 0h24v24H0V0z\" fill=\"none\"/>\n",
              "    <path d=\"M18.56 5.44l.94 2.06.94-2.06 2.06-.94-2.06-.94-.94-2.06-.94 2.06-2.06.94zm-11 1L8.5 8.5l.94-2.06 2.06-.94-2.06-.94L8.5 2.5l-.94 2.06-2.06.94zm10 10l.94 2.06.94-2.06 2.06-.94-2.06-.94-.94-2.06-.94 2.06-2.06.94z\"/><path d=\"M17.41 7.96l-1.37-1.37c-.4-.4-.92-.59-1.43-.59-.52 0-1.04.2-1.43.59L10.3 9.45l-7.72 7.72c-.78.78-.78 2.05 0 2.83L4 21.41c.39.39.9.59 1.41.59.51 0 1.02-.2 1.41-.59l7.78-7.78 2.81-2.81c.8-.78.8-2.07 0-2.86zM5.41 20L4 18.59l7.72-7.72 1.47 1.35L5.41 20z\"/>\n",
              "  </svg>\n",
              "      </button>\n",
              "      \n",
              "  <style>\n",
              "    .colab-df-container {\n",
              "      display:flex;\n",
              "      flex-wrap:wrap;\n",
              "      gap: 12px;\n",
              "    }\n",
              "\n",
              "    .colab-df-convert {\n",
              "      background-color: #E8F0FE;\n",
              "      border: none;\n",
              "      border-radius: 50%;\n",
              "      cursor: pointer;\n",
              "      display: none;\n",
              "      fill: #1967D2;\n",
              "      height: 32px;\n",
              "      padding: 0 0 0 0;\n",
              "      width: 32px;\n",
              "    }\n",
              "\n",
              "    .colab-df-convert:hover {\n",
              "      background-color: #E2EBFA;\n",
              "      box-shadow: 0px 1px 2px rgba(60, 64, 67, 0.3), 0px 1px 3px 1px rgba(60, 64, 67, 0.15);\n",
              "      fill: #174EA6;\n",
              "    }\n",
              "\n",
              "    [theme=dark] .colab-df-convert {\n",
              "      background-color: #3B4455;\n",
              "      fill: #D2E3FC;\n",
              "    }\n",
              "\n",
              "    [theme=dark] .colab-df-convert:hover {\n",
              "      background-color: #434B5C;\n",
              "      box-shadow: 0px 1px 3px 1px rgba(0, 0, 0, 0.15);\n",
              "      filter: drop-shadow(0px 1px 2px rgba(0, 0, 0, 0.3));\n",
              "      fill: #FFFFFF;\n",
              "    }\n",
              "  </style>\n",
              "\n",
              "      <script>\n",
              "        const buttonEl =\n",
              "          document.querySelector('#df-70f63ef0-a91e-4826-b775-d43bc8ba87ab button.colab-df-convert');\n",
              "        buttonEl.style.display =\n",
              "          google.colab.kernel.accessAllowed ? 'block' : 'none';\n",
              "\n",
              "        async function convertToInteractive(key) {\n",
              "          const element = document.querySelector('#df-70f63ef0-a91e-4826-b775-d43bc8ba87ab');\n",
              "          const dataTable =\n",
              "            await google.colab.kernel.invokeFunction('convertToInteractive',\n",
              "                                                     [key], {});\n",
              "          if (!dataTable) return;\n",
              "\n",
              "          const docLinkHtml = 'Like what you see? Visit the ' +\n",
              "            '<a target=\"_blank\" href=https://colab.research.google.com/notebooks/data_table.ipynb>data table notebook</a>'\n",
              "            + ' to learn more about interactive tables.';\n",
              "          element.innerHTML = '';\n",
              "          dataTable['output_type'] = 'display_data';\n",
              "          await google.colab.output.renderOutput(dataTable, element);\n",
              "          const docLink = document.createElement('div');\n",
              "          docLink.innerHTML = docLinkHtml;\n",
              "          element.appendChild(docLink);\n",
              "        }\n",
              "      </script>\n",
              "    </div>\n",
              "  </div>\n",
              "  "
            ]
          },
          "metadata": {},
          "execution_count": 12
        }
      ]
    },
    {
      "cell_type": "code",
      "source": [
        "Mapping_file = dict(zip(movies.title.tolist(), movies.movieId.tolist()))"
      ],
      "metadata": {
        "execution": {
          "iopub.status.busy": "2022-03-23T14:26:18.895087Z",
          "iopub.execute_input": "2022-03-23T14:26:18.895671Z",
          "iopub.status.idle": "2022-03-23T14:26:18.904284Z",
          "shell.execute_reply.started": "2022-03-23T14:26:18.895641Z",
          "shell.execute_reply": "2022-03-23T14:26:18.903139Z"
        },
        "trusted": true,
        "id": "aa7ZPybOMhdv"
      },
      "execution_count": null,
      "outputs": []
    },
    {
      "cell_type": "code",
      "source": [
        "tags.drop(['timestamp'],1, inplace=True)\n",
        "ratings_f.drop(['timestamp'],1, inplace=True)"
      ],
      "metadata": {
        "execution": {
          "iopub.status.busy": "2022-03-23T14:26:18.905838Z",
          "iopub.execute_input": "2022-03-23T14:26:18.907492Z",
          "iopub.status.idle": "2022-03-23T14:26:19.083790Z",
          "shell.execute_reply.started": "2022-03-23T14:26:18.907451Z",
          "shell.execute_reply": "2022-03-23T14:26:19.082977Z"
        },
        "trusted": true,
        "colab": {
          "base_uri": "https://localhost:8080/"
        },
        "id": "lpomUo6fMhdw",
        "outputId": "8c9fb41b-df2d-4e46-993f-1c2f3d9583e9"
      },
      "execution_count": null,
      "outputs": [
        {
          "output_type": "stream",
          "name": "stderr",
          "text": [
            "/usr/local/lib/python3.7/dist-packages/ipykernel_launcher.py:1: FutureWarning: In a future version of pandas all arguments of DataFrame.drop except for the argument 'labels' will be keyword-only\n",
            "  \"\"\"Entry point for launching an IPython kernel.\n",
            "/usr/local/lib/python3.7/dist-packages/ipykernel_launcher.py:2: FutureWarning: In a future version of pandas all arguments of DataFrame.drop except for the argument 'labels' will be keyword-only\n",
            "  \n"
          ]
        }
      ]
    },
    {
      "cell_type": "markdown",
      "source": [
        "### Creating Metadata"
      ],
      "metadata": {
        "id": "WETFwnnxMhdw"
      }
    },
    {
      "cell_type": "code",
      "source": [
        "merged = pd.merge(movies, tags, on='movieId', how='left')"
      ],
      "metadata": {
        "execution": {
          "iopub.status.busy": "2022-03-23T14:26:19.085149Z",
          "iopub.execute_input": "2022-03-23T14:26:19.085612Z",
          "iopub.status.idle": "2022-03-23T14:26:19.181962Z",
          "shell.execute_reply.started": "2022-03-23T14:26:19.085571Z",
          "shell.execute_reply": "2022-03-23T14:26:19.181185Z"
        },
        "trusted": true,
        "id": "HbaTfvqfMhdx"
      },
      "execution_count": null,
      "outputs": []
    },
    {
      "cell_type": "code",
      "source": [
        "merged.head(5)"
      ],
      "metadata": {
        "execution": {
          "iopub.status.busy": "2022-03-23T14:26:19.183383Z",
          "iopub.execute_input": "2022-03-23T14:26:19.183932Z",
          "iopub.status.idle": "2022-03-23T14:26:19.196294Z",
          "shell.execute_reply.started": "2022-03-23T14:26:19.183892Z",
          "shell.execute_reply": "2022-03-23T14:26:19.195296Z"
        },
        "trusted": true,
        "colab": {
          "base_uri": "https://localhost:8080/",
          "height": 206
        },
        "id": "tE4Kg0nOMhdx",
        "outputId": "7c58d5d3-a6bc-4c7c-8e68-866f8229fd1b"
      },
      "execution_count": null,
      "outputs": [
        {
          "output_type": "execute_result",
          "data": {
            "text/plain": [
              "   movieId             title                                       genres  \\\n",
              "0        1  Toy Story (1995)  Adventure|Animation|Children|Comedy|Fantasy   \n",
              "1        1  Toy Story (1995)  Adventure|Animation|Children|Comedy|Fantasy   \n",
              "2        1  Toy Story (1995)  Adventure|Animation|Children|Comedy|Fantasy   \n",
              "3        1  Toy Story (1995)  Adventure|Animation|Children|Comedy|Fantasy   \n",
              "4        1  Toy Story (1995)  Adventure|Animation|Children|Comedy|Fantasy   \n",
              "\n",
              "   userId                                     tag  \n",
              "0  1644.0                                 Watched  \n",
              "1  1741.0                      computer animation  \n",
              "2  1741.0                 Disney animated feature  \n",
              "3  1741.0                         Pixar animation  \n",
              "4  1741.0  TÃ©a Leoni does not star in this movie  "
            ],
            "text/html": [
              "\n",
              "  <div id=\"df-327dda4e-2bf7-44de-b94f-90badefae449\">\n",
              "    <div class=\"colab-df-container\">\n",
              "      <div>\n",
              "<style scoped>\n",
              "    .dataframe tbody tr th:only-of-type {\n",
              "        vertical-align: middle;\n",
              "    }\n",
              "\n",
              "    .dataframe tbody tr th {\n",
              "        vertical-align: top;\n",
              "    }\n",
              "\n",
              "    .dataframe thead th {\n",
              "        text-align: right;\n",
              "    }\n",
              "</style>\n",
              "<table border=\"1\" class=\"dataframe\">\n",
              "  <thead>\n",
              "    <tr style=\"text-align: right;\">\n",
              "      <th></th>\n",
              "      <th>movieId</th>\n",
              "      <th>title</th>\n",
              "      <th>genres</th>\n",
              "      <th>userId</th>\n",
              "      <th>tag</th>\n",
              "    </tr>\n",
              "  </thead>\n",
              "  <tbody>\n",
              "    <tr>\n",
              "      <th>0</th>\n",
              "      <td>1</td>\n",
              "      <td>Toy Story (1995)</td>\n",
              "      <td>Adventure|Animation|Children|Comedy|Fantasy</td>\n",
              "      <td>1644.0</td>\n",
              "      <td>Watched</td>\n",
              "    </tr>\n",
              "    <tr>\n",
              "      <th>1</th>\n",
              "      <td>1</td>\n",
              "      <td>Toy Story (1995)</td>\n",
              "      <td>Adventure|Animation|Children|Comedy|Fantasy</td>\n",
              "      <td>1741.0</td>\n",
              "      <td>computer animation</td>\n",
              "    </tr>\n",
              "    <tr>\n",
              "      <th>2</th>\n",
              "      <td>1</td>\n",
              "      <td>Toy Story (1995)</td>\n",
              "      <td>Adventure|Animation|Children|Comedy|Fantasy</td>\n",
              "      <td>1741.0</td>\n",
              "      <td>Disney animated feature</td>\n",
              "    </tr>\n",
              "    <tr>\n",
              "      <th>3</th>\n",
              "      <td>1</td>\n",
              "      <td>Toy Story (1995)</td>\n",
              "      <td>Adventure|Animation|Children|Comedy|Fantasy</td>\n",
              "      <td>1741.0</td>\n",
              "      <td>Pixar animation</td>\n",
              "    </tr>\n",
              "    <tr>\n",
              "      <th>4</th>\n",
              "      <td>1</td>\n",
              "      <td>Toy Story (1995)</td>\n",
              "      <td>Adventure|Animation|Children|Comedy|Fantasy</td>\n",
              "      <td>1741.0</td>\n",
              "      <td>TÃ©a Leoni does not star in this movie</td>\n",
              "    </tr>\n",
              "  </tbody>\n",
              "</table>\n",
              "</div>\n",
              "      <button class=\"colab-df-convert\" onclick=\"convertToInteractive('df-327dda4e-2bf7-44de-b94f-90badefae449')\"\n",
              "              title=\"Convert this dataframe to an interactive table.\"\n",
              "              style=\"display:none;\">\n",
              "        \n",
              "  <svg xmlns=\"http://www.w3.org/2000/svg\" height=\"24px\"viewBox=\"0 0 24 24\"\n",
              "       width=\"24px\">\n",
              "    <path d=\"M0 0h24v24H0V0z\" fill=\"none\"/>\n",
              "    <path d=\"M18.56 5.44l.94 2.06.94-2.06 2.06-.94-2.06-.94-.94-2.06-.94 2.06-2.06.94zm-11 1L8.5 8.5l.94-2.06 2.06-.94-2.06-.94L8.5 2.5l-.94 2.06-2.06.94zm10 10l.94 2.06.94-2.06 2.06-.94-2.06-.94-.94-2.06-.94 2.06-2.06.94z\"/><path d=\"M17.41 7.96l-1.37-1.37c-.4-.4-.92-.59-1.43-.59-.52 0-1.04.2-1.43.59L10.3 9.45l-7.72 7.72c-.78.78-.78 2.05 0 2.83L4 21.41c.39.39.9.59 1.41.59.51 0 1.02-.2 1.41-.59l7.78-7.78 2.81-2.81c.8-.78.8-2.07 0-2.86zM5.41 20L4 18.59l7.72-7.72 1.47 1.35L5.41 20z\"/>\n",
              "  </svg>\n",
              "      </button>\n",
              "      \n",
              "  <style>\n",
              "    .colab-df-container {\n",
              "      display:flex;\n",
              "      flex-wrap:wrap;\n",
              "      gap: 12px;\n",
              "    }\n",
              "\n",
              "    .colab-df-convert {\n",
              "      background-color: #E8F0FE;\n",
              "      border: none;\n",
              "      border-radius: 50%;\n",
              "      cursor: pointer;\n",
              "      display: none;\n",
              "      fill: #1967D2;\n",
              "      height: 32px;\n",
              "      padding: 0 0 0 0;\n",
              "      width: 32px;\n",
              "    }\n",
              "\n",
              "    .colab-df-convert:hover {\n",
              "      background-color: #E2EBFA;\n",
              "      box-shadow: 0px 1px 2px rgba(60, 64, 67, 0.3), 0px 1px 3px 1px rgba(60, 64, 67, 0.15);\n",
              "      fill: #174EA6;\n",
              "    }\n",
              "\n",
              "    [theme=dark] .colab-df-convert {\n",
              "      background-color: #3B4455;\n",
              "      fill: #D2E3FC;\n",
              "    }\n",
              "\n",
              "    [theme=dark] .colab-df-convert:hover {\n",
              "      background-color: #434B5C;\n",
              "      box-shadow: 0px 1px 3px 1px rgba(0, 0, 0, 0.15);\n",
              "      filter: drop-shadow(0px 1px 2px rgba(0, 0, 0, 0.3));\n",
              "      fill: #FFFFFF;\n",
              "    }\n",
              "  </style>\n",
              "\n",
              "      <script>\n",
              "        const buttonEl =\n",
              "          document.querySelector('#df-327dda4e-2bf7-44de-b94f-90badefae449 button.colab-df-convert');\n",
              "        buttonEl.style.display =\n",
              "          google.colab.kernel.accessAllowed ? 'block' : 'none';\n",
              "\n",
              "        async function convertToInteractive(key) {\n",
              "          const element = document.querySelector('#df-327dda4e-2bf7-44de-b94f-90badefae449');\n",
              "          const dataTable =\n",
              "            await google.colab.kernel.invokeFunction('convertToInteractive',\n",
              "                                                     [key], {});\n",
              "          if (!dataTable) return;\n",
              "\n",
              "          const docLinkHtml = 'Like what you see? Visit the ' +\n",
              "            '<a target=\"_blank\" href=https://colab.research.google.com/notebooks/data_table.ipynb>data table notebook</a>'\n",
              "            + ' to learn more about interactive tables.';\n",
              "          element.innerHTML = '';\n",
              "          dataTable['output_type'] = 'display_data';\n",
              "          await google.colab.output.renderOutput(dataTable, element);\n",
              "          const docLink = document.createElement('div');\n",
              "          docLink.innerHTML = docLinkHtml;\n",
              "          element.appendChild(docLink);\n",
              "        }\n",
              "      </script>\n",
              "    </div>\n",
              "  </div>\n",
              "  "
            ]
          },
          "metadata": {},
          "execution_count": 16
        }
      ]
    },
    {
      "cell_type": "code",
      "source": [
        "merged.fillna(\"\", inplace=True)\n",
        "merged = pd.DataFrame(merged.groupby('movieId')['tag'].apply(\n",
        "                                          lambda x: \"%s\" % ' '.join(x)))\n",
        "metadata = pd.merge(movies, merged, on='movieId', how='left')\n",
        "metadata  ['metadata'] = metadata[['tag', 'genres']].apply(\n",
        "                                          lambda x: ' '.join(x), axis = 1)\n",
        "metadata [['movieId','title','metadata']].head(3)"
      ],
      "metadata": {
        "execution": {
          "iopub.status.busy": "2022-03-23T14:26:19.197916Z",
          "iopub.execute_input": "2022-03-23T14:26:19.198181Z",
          "iopub.status.idle": "2022-03-23T14:26:20.208009Z",
          "shell.execute_reply.started": "2022-03-23T14:26:19.198146Z",
          "shell.execute_reply": "2022-03-23T14:26:20.207222Z"
        },
        "trusted": true,
        "colab": {
          "base_uri": "https://localhost:8080/",
          "height": 143
        },
        "id": "hfPQBJeNMhdy",
        "outputId": "11e3687a-97a8-49e2-ef0a-d004f871c4e5"
      },
      "execution_count": null,
      "outputs": [
        {
          "output_type": "execute_result",
          "data": {
            "text/plain": [
              "   movieId                    title  \\\n",
              "0        1         Toy Story (1995)   \n",
              "1        2           Jumanji (1995)   \n",
              "2        3  Grumpier Old Men (1995)   \n",
              "\n",
              "                                            metadata  \n",
              "0  Watched computer animation Disney animated fea...  \n",
              "1  time travel adapted from:book board game child...  \n",
              "2  old people that is actually funny sequel fever...  "
            ],
            "text/html": [
              "\n",
              "  <div id=\"df-3381b439-914a-4298-ba58-7c6fcca36996\">\n",
              "    <div class=\"colab-df-container\">\n",
              "      <div>\n",
              "<style scoped>\n",
              "    .dataframe tbody tr th:only-of-type {\n",
              "        vertical-align: middle;\n",
              "    }\n",
              "\n",
              "    .dataframe tbody tr th {\n",
              "        vertical-align: top;\n",
              "    }\n",
              "\n",
              "    .dataframe thead th {\n",
              "        text-align: right;\n",
              "    }\n",
              "</style>\n",
              "<table border=\"1\" class=\"dataframe\">\n",
              "  <thead>\n",
              "    <tr style=\"text-align: right;\">\n",
              "      <th></th>\n",
              "      <th>movieId</th>\n",
              "      <th>title</th>\n",
              "      <th>metadata</th>\n",
              "    </tr>\n",
              "  </thead>\n",
              "  <tbody>\n",
              "    <tr>\n",
              "      <th>0</th>\n",
              "      <td>1</td>\n",
              "      <td>Toy Story (1995)</td>\n",
              "      <td>Watched computer animation Disney animated fea...</td>\n",
              "    </tr>\n",
              "    <tr>\n",
              "      <th>1</th>\n",
              "      <td>2</td>\n",
              "      <td>Jumanji (1995)</td>\n",
              "      <td>time travel adapted from:book board game child...</td>\n",
              "    </tr>\n",
              "    <tr>\n",
              "      <th>2</th>\n",
              "      <td>3</td>\n",
              "      <td>Grumpier Old Men (1995)</td>\n",
              "      <td>old people that is actually funny sequel fever...</td>\n",
              "    </tr>\n",
              "  </tbody>\n",
              "</table>\n",
              "</div>\n",
              "      <button class=\"colab-df-convert\" onclick=\"convertToInteractive('df-3381b439-914a-4298-ba58-7c6fcca36996')\"\n",
              "              title=\"Convert this dataframe to an interactive table.\"\n",
              "              style=\"display:none;\">\n",
              "        \n",
              "  <svg xmlns=\"http://www.w3.org/2000/svg\" height=\"24px\"viewBox=\"0 0 24 24\"\n",
              "       width=\"24px\">\n",
              "    <path d=\"M0 0h24v24H0V0z\" fill=\"none\"/>\n",
              "    <path d=\"M18.56 5.44l.94 2.06.94-2.06 2.06-.94-2.06-.94-.94-2.06-.94 2.06-2.06.94zm-11 1L8.5 8.5l.94-2.06 2.06-.94-2.06-.94L8.5 2.5l-.94 2.06-2.06.94zm10 10l.94 2.06.94-2.06 2.06-.94-2.06-.94-.94-2.06-.94 2.06-2.06.94z\"/><path d=\"M17.41 7.96l-1.37-1.37c-.4-.4-.92-.59-1.43-.59-.52 0-1.04.2-1.43.59L10.3 9.45l-7.72 7.72c-.78.78-.78 2.05 0 2.83L4 21.41c.39.39.9.59 1.41.59.51 0 1.02-.2 1.41-.59l7.78-7.78 2.81-2.81c.8-.78.8-2.07 0-2.86zM5.41 20L4 18.59l7.72-7.72 1.47 1.35L5.41 20z\"/>\n",
              "  </svg>\n",
              "      </button>\n",
              "      \n",
              "  <style>\n",
              "    .colab-df-container {\n",
              "      display:flex;\n",
              "      flex-wrap:wrap;\n",
              "      gap: 12px;\n",
              "    }\n",
              "\n",
              "    .colab-df-convert {\n",
              "      background-color: #E8F0FE;\n",
              "      border: none;\n",
              "      border-radius: 50%;\n",
              "      cursor: pointer;\n",
              "      display: none;\n",
              "      fill: #1967D2;\n",
              "      height: 32px;\n",
              "      padding: 0 0 0 0;\n",
              "      width: 32px;\n",
              "    }\n",
              "\n",
              "    .colab-df-convert:hover {\n",
              "      background-color: #E2EBFA;\n",
              "      box-shadow: 0px 1px 2px rgba(60, 64, 67, 0.3), 0px 1px 3px 1px rgba(60, 64, 67, 0.15);\n",
              "      fill: #174EA6;\n",
              "    }\n",
              "\n",
              "    [theme=dark] .colab-df-convert {\n",
              "      background-color: #3B4455;\n",
              "      fill: #D2E3FC;\n",
              "    }\n",
              "\n",
              "    [theme=dark] .colab-df-convert:hover {\n",
              "      background-color: #434B5C;\n",
              "      box-shadow: 0px 1px 3px 1px rgba(0, 0, 0, 0.15);\n",
              "      filter: drop-shadow(0px 1px 2px rgba(0, 0, 0, 0.3));\n",
              "      fill: #FFFFFF;\n",
              "    }\n",
              "  </style>\n",
              "\n",
              "      <script>\n",
              "        const buttonEl =\n",
              "          document.querySelector('#df-3381b439-914a-4298-ba58-7c6fcca36996 button.colab-df-convert');\n",
              "        buttonEl.style.display =\n",
              "          google.colab.kernel.accessAllowed ? 'block' : 'none';\n",
              "\n",
              "        async function convertToInteractive(key) {\n",
              "          const element = document.querySelector('#df-3381b439-914a-4298-ba58-7c6fcca36996');\n",
              "          const dataTable =\n",
              "            await google.colab.kernel.invokeFunction('convertToInteractive',\n",
              "                                                     [key], {});\n",
              "          if (!dataTable) return;\n",
              "\n",
              "          const docLinkHtml = 'Like what you see? Visit the ' +\n",
              "            '<a target=\"_blank\" href=https://colab.research.google.com/notebooks/data_table.ipynb>data table notebook</a>'\n",
              "            + ' to learn more about interactive tables.';\n",
              "          element.innerHTML = '';\n",
              "          dataTable['output_type'] = 'display_data';\n",
              "          await google.colab.output.renderOutput(dataTable, element);\n",
              "          const docLink = document.createElement('div');\n",
              "          docLink.innerHTML = docLinkHtml;\n",
              "          element.appendChild(docLink);\n",
              "        }\n",
              "      </script>\n",
              "    </div>\n",
              "  </div>\n",
              "  "
            ]
          },
          "metadata": {},
          "execution_count": 17
        }
      ]
    },
    {
      "cell_type": "markdown",
      "source": [
        "### Creating the Content filter - Latent matrix 1"
      ],
      "metadata": {
        "id": "PBIGHcx_Mhdz"
      }
    },
    {
      "cell_type": "code",
      "source": [
        "from sklearn.feature_extraction.text import TfidfVectorizer\n",
        "tfidf = TfidfVectorizer(stop_words='english')\n",
        "tfidf_matrix = tfidf.fit_transform(metadata['metadata'])\n",
        "tfidf_df = pd.DataFrame(tfidf_matrix.toarray(), index=metadata.index.tolist())\n",
        "print(tfidf_df.shape)"
      ],
      "metadata": {
        "execution": {
          "iopub.status.busy": "2022-03-23T14:26:20.209323Z",
          "iopub.execute_input": "2022-03-23T14:26:20.209600Z",
          "iopub.status.idle": "2022-03-23T14:26:23.717646Z",
          "shell.execute_reply.started": "2022-03-23T14:26:20.209557Z",
          "shell.execute_reply": "2022-03-23T14:26:23.716405Z"
        },
        "trusted": true,
        "colab": {
          "base_uri": "https://localhost:8080/"
        },
        "id": "KD_lfB6kMhd0",
        "outputId": "99c34c1a-3a4a-4354-aee3-9d0958c6a23b"
      },
      "execution_count": null,
      "outputs": [
        {
          "output_type": "stream",
          "name": "stdout",
          "text": [
            "(17012, 22162)\n"
          ]
        }
      ]
    },
    {
      "cell_type": "code",
      "source": [
        "# Truncate with SVD\n",
        "from sklearn.decomposition import TruncatedSVD\n",
        "svd = TruncatedSVD(n_components=200)\n",
        "latent_matrix = svd.fit_transform(tfidf_df)\n",
        "# plot var expalined to see what latent dimensions to use\n",
        "explained = svd.explained_variance_ratio_.cumsum()\n",
        "plt.plot(explained, '.-', ms = 16, color='red')\n",
        "plt.xlabel('Singular value components', fontsize= 12)\n",
        "plt.ylabel('Cumulative percent of variance', fontsize=12)        \n",
        "plt.show()"
      ],
      "metadata": {
        "execution": {
          "iopub.status.busy": "2022-03-23T14:26:23.719225Z",
          "iopub.execute_input": "2022-03-23T14:26:23.719708Z",
          "iopub.status.idle": "2022-03-23T14:27:36.878879Z",
          "shell.execute_reply.started": "2022-03-23T14:26:23.719670Z",
          "shell.execute_reply": "2022-03-23T14:27:36.878167Z"
        },
        "trusted": true,
        "colab": {
          "base_uri": "https://localhost:8080/",
          "height": 282
        },
        "id": "tgEAV2GnMhd0",
        "outputId": "4c7f58a8-d07f-42af-ff7b-e3e54cbcb409"
      },
      "execution_count": null,
      "outputs": [
        {
          "output_type": "display_data",
          "data": {
            "text/plain": [
              "<Figure size 432x288 with 1 Axes>"
            ],
            "image/png": "[encoded data removed]"
          },
          "metadata": {
            "needs_background": "light"
          }
        }
      ]
    },
    {
      "cell_type": "code",
      "source": [
        "n = 200 \n",
        "latent_matrix_1_df = pd.DataFrame(latent_matrix[:,0:n], index=metadata.title.tolist())"
      ],
      "metadata": {
        "execution": {
          "iopub.status.busy": "2022-03-23T14:27:36.880276Z",
          "iopub.execute_input": "2022-03-23T14:27:36.880706Z",
          "iopub.status.idle": "2022-03-23T14:27:36.888794Z",
          "shell.execute_reply.started": "2022-03-23T14:27:36.880666Z",
          "shell.execute_reply": "2022-03-23T14:27:36.888127Z"
        },
        "trusted": true,
        "id": "wCheC6y3Mhd1"
      },
      "execution_count": null,
      "outputs": []
    },
    {
      "cell_type": "code",
      "source": [
        "latent_matrix.shape"
      ],
      "metadata": {
        "execution": {
          "iopub.status.busy": "2022-03-23T14:27:36.890234Z",
          "iopub.execute_input": "2022-03-23T14:27:36.890764Z",
          "iopub.status.idle": "2022-03-23T14:27:36.897024Z",
          "shell.execute_reply.started": "2022-03-23T14:27:36.890723Z",
          "shell.execute_reply": "2022-03-23T14:27:36.896223Z"
        },
        "trusted": true,
        "colab": {
          "base_uri": "https://localhost:8080/"
        },
        "id": "WBP_-3F_Mhd2",
        "outputId": "db2158d5-c83e-4606-b38f-0189883c1c81"
      },
      "execution_count": null,
      "outputs": [
        {
          "output_type": "execute_result",
          "data": {
            "text/plain": [
              "(17012, 200)"
            ]
          },
          "metadata": {},
          "execution_count": 21
        }
      ]
    },
    {
      "cell_type": "markdown",
      "source": [
        "### Creating a Latent matrix 2"
      ],
      "metadata": {
        "id": "rzoNeZvzMhd2"
      }
    },
    {
      "cell_type": "markdown",
      "source": [
        "### creating a pivot on ratings data"
      ],
      "metadata": {
        "id": "roPVDrExMhd3"
      }
    },
    {
      "cell_type": "code",
      "source": [
        "ratings1 = pd.merge(movies[['movieId']], ratings_f, on=\"movieId\", how=\"right\")\n",
        "ratings_pivot = ratings1.pivot(index = 'movieId', columns ='userId', values = 'rating').fillna(0)"
      ],
      "metadata": {
        "execution": {
          "iopub.status.busy": "2022-03-23T14:27:36.898560Z",
          "iopub.execute_input": "2022-03-23T14:27:36.899050Z"
        },
        "trusted": true,
        "id": "I9zgl2wOMhd3"
      },
      "execution_count": null,
      "outputs": []
    },
    {
      "cell_type": "code",
      "source": [
        "from sklearn.decomposition import TruncatedSVD\n",
        "svd = TruncatedSVD(n_components=200)\n",
        "latent_2 = svd.fit_transform(ratings_pivot)\n",
        "latent_2_df = pd.DataFrame(latent_2,index=metadata.title.tolist())"
      ],
      "metadata": {
        "trusted": true,
        "id": "JbVGqTeqMhd3"
      },
      "execution_count": null,
      "outputs": []
    },
    {
      "cell_type": "code",
      "source": [
        "explained = svd.explained_variance_ratio_.cumsum()\n",
        "plt.plot(explained, '.-', ms = 16, color='red')\n",
        "plt.xlabel('Singular value components', fontsize= 12)\n",
        "plt.ylabel('Cumulative percent of variance', fontsize=12)        \n",
        "plt.show()"
      ],
      "metadata": {
        "colab": {
          "base_uri": "https://localhost:8080/",
          "height": 282
        },
        "id": "HeYu4-wVOCSM",
        "outputId": "014ddba7-23b3-4b67-c04e-c38b37b1d58f"
      },
      "execution_count": null,
      "outputs": [
        {
          "output_type": "display_data",
          "data": {
            "text/plain": [
              "<Figure size 432x288 with 1 Axes>"
            ],
            "image/png": "[encoded data removed]"
          },
          "metadata": {
            "needs_background": "light"
          }
        }
      ]
    },
    {
      "cell_type": "markdown",
      "source": [
        "### Hybrid model\n"
      ],
      "metadata": {
        "id": "YkIrW02YOOSZ"
      }
    },
    {
      "cell_type": "code",
      "source": [
        "from sklearn.metrics.pairwise import cosine_similarity\n",
        "a_1 = np.array(latent_matrix_1_df.loc['Strada, La (1954)']).reshape(1, -1)\n",
        "a_2 = np.array(latent_2_df.loc['Strada, La (1954)']).reshape(1, -1)\n",
        "\n",
        "score_1 = cosine_similarity(latent_matrix_1_df, a_1).reshape(-1)\n",
        "score_2 = cosine_similarity(latent_2_df, a_2).reshape(-1)\n",
        "\n",
        "hybrid = ((score_1 + score_2)/2.0)\n",
        "\n",
        "dictDf = {'content': score_1 , 'collaborative': score_2, 'hybrid': hybrid} \n",
        "similar = pd.DataFrame(dictDf, index = latent_matrix_1_df.index )\n",
        "\n",
        "similar.sort_values('content', ascending=False, inplace=True)\n",
        "\n",
        "similar[1:].head(11)"
      ],
      "metadata": {
        "colab": {
          "base_uri": "https://localhost:8080/",
          "height": 394
        },
        "id": "JC1JHhUSOMCi",
        "outputId": "cc8ead35-e0d9-40f9-8e5f-f27b62427d70"
      },
      "execution_count": null,
      "outputs": [
        {
          "output_type": "execute_result",
          "data": {
            "text/plain": [
              "                                                     content  collaborative  \\\n",
              "Burnt by the Sun (Utomlyonnye solntsem) (1994)      0.789384       0.311801   \n",
              "Babette's Feast (Babettes gæstebud) (1987)          0.731166       0.595888   \n",
              "Purple Noon (Plein soleil) (1960)                   0.703968       0.411720   \n",
              "Mon Oncle (My Uncle) (1958)                         0.678138       0.793130   \n",
              "Sundays and Cybele (Les dimanches de Ville d'Av...  0.663594       0.442606   \n",
              "To Begin Again (a.k.a. Starting Over) (Volver a...  0.631382       0.262327   \n",
              "Nights of Cabiria (Notti di Cabiria, Le) (1957)     0.628465       0.740375   \n",
              "Kolya (Kolja) (1996)                                0.622818       0.325614   \n",
              "Moscow Does Not Believe in Tears (Moskva slezam...  0.621781       0.587965   \n",
              "Journey of Hope (Reise der Hoffnung) (1990)         0.615030       0.387955   \n",
              "Beauty of the Day (Belle de jour) (1967)            0.591242       0.535543   \n",
              "\n",
              "                                                      hybrid  \n",
              "Burnt by the Sun (Utomlyonnye solntsem) (1994)      0.550592  \n",
              "Babette's Feast (Babettes gæstebud) (1987)          0.663527  \n",
              "Purple Noon (Plein soleil) (1960)                   0.557844  \n",
              "Mon Oncle (My Uncle) (1958)                         0.735634  \n",
              "Sundays and Cybele (Les dimanches de Ville d'Av...  0.553100  \n",
              "To Begin Again (a.k.a. Starting Over) (Volver a...  0.446855  \n",
              "Nights of Cabiria (Notti di Cabiria, Le) (1957)     0.684420  \n",
              "Kolya (Kolja) (1996)                                0.474216  \n",
              "Moscow Does Not Believe in Tears (Moskva slezam...  0.604873  \n",
              "Journey of Hope (Reise der Hoffnung) (1990)         0.501493  \n",
              "Beauty of the Day (Belle de jour) (1967)            0.563393  "
            ],
            "text/html": [
              "\n",
              "  <div id=\"df-720f9f5a-1f70-4526-8f27-443a27a31d24\">\n",
              "    <div class=\"colab-df-container\">\n",
              "      <div>\n",
              "<style scoped>\n",
              "    .dataframe tbody tr th:only-of-type {\n",
              "        vertical-align: middle;\n",
              "    }\n",
              "\n",
              "    .dataframe tbody tr th {\n",
              "        vertical-align: top;\n",
              "    }\n",
              "\n",
              "    .dataframe thead th {\n",
              "        text-align: right;\n",
              "    }\n",
              "</style>\n",
              "<table border=\"1\" class=\"dataframe\">\n",
              "  <thead>\n",
              "    <tr style=\"text-align: right;\">\n",
              "      <th></th>\n",
              "      <th>content</th>\n",
              "      <th>collaborative</th>\n",
              "      <th>hybrid</th>\n",
              "    </tr>\n",
              "  </thead>\n",
              "  <tbody>\n",
              "    <tr>\n",
              "      <th>Burnt by the Sun (Utomlyonnye solntsem) (1994)</th>\n",
              "      <td>0.789384</td>\n",
              "      <td>0.311801</td>\n",
              "      <td>0.550592</td>\n",
              "    </tr>\n",
              "    <tr>\n",
              "      <th>Babette's Feast (Babettes gæstebud) (1987)</th>\n",
              "      <td>0.731166</td>\n",
              "      <td>0.595888</td>\n",
              "      <td>0.663527</td>\n",
              "    </tr>\n",
              "    <tr>\n",
              "      <th>Purple Noon (Plein soleil) (1960)</th>\n",
              "      <td>0.703968</td>\n",
              "      <td>0.411720</td>\n",
              "      <td>0.557844</td>\n",
              "    </tr>\n",
              "    <tr>\n",
              "      <th>Mon Oncle (My Uncle) (1958)</th>\n",
              "      <td>0.678138</td>\n",
              "      <td>0.793130</td>\n",
              "      <td>0.735634</td>\n",
              "    </tr>\n",
              "    <tr>\n",
              "      <th>Sundays and Cybele (Les dimanches de Ville d'Avray) (1962)</th>\n",
              "      <td>0.663594</td>\n",
              "      <td>0.442606</td>\n",
              "      <td>0.553100</td>\n",
              "    </tr>\n",
              "    <tr>\n",
              "      <th>To Begin Again (a.k.a. Starting Over) (Volver a Empezar) (1982)</th>\n",
              "      <td>0.631382</td>\n",
              "      <td>0.262327</td>\n",
              "      <td>0.446855</td>\n",
              "    </tr>\n",
              "    <tr>\n",
              "      <th>Nights of Cabiria (Notti di Cabiria, Le) (1957)</th>\n",
              "      <td>0.628465</td>\n",
              "      <td>0.740375</td>\n",
              "      <td>0.684420</td>\n",
              "    </tr>\n",
              "    <tr>\n",
              "      <th>Kolya (Kolja) (1996)</th>\n",
              "      <td>0.622818</td>\n",
              "      <td>0.325614</td>\n",
              "      <td>0.474216</td>\n",
              "    </tr>\n",
              "    <tr>\n",
              "      <th>Moscow Does Not Believe in Tears (Moskva slezam ne verit) (1979)</th>\n",
              "      <td>0.621781</td>\n",
              "      <td>0.587965</td>\n",
              "      <td>0.604873</td>\n",
              "    </tr>\n",
              "    <tr>\n",
              "      <th>Journey of Hope (Reise der Hoffnung) (1990)</th>\n",
              "      <td>0.615030</td>\n",
              "      <td>0.387955</td>\n",
              "      <td>0.501493</td>\n",
              "    </tr>\n",
              "    <tr>\n",
              "      <th>Beauty of the Day (Belle de jour) (1967)</th>\n",
              "      <td>0.591242</td>\n",
              "      <td>0.535543</td>\n",
              "      <td>0.563393</td>\n",
              "    </tr>\n",
              "  </tbody>\n",
              "</table>\n",
              "</div>\n",
              "      <button class=\"colab-df-convert\" onclick=\"convertToInteractive('df-720f9f5a-1f70-4526-8f27-443a27a31d24')\"\n",
              "              title=\"Convert this dataframe to an interactive table.\"\n",
              "              style=\"display:none;\">\n",
              "        \n",
              "  <svg xmlns=\"http://www.w3.org/2000/svg\" height=\"24px\"viewBox=\"0 0 24 24\"\n",
              "       width=\"24px\">\n",
              "    <path d=\"M0 0h24v24H0V0z\" fill=\"none\"/>\n",
              "    <path d=\"M18.56 5.44l.94 2.06.94-2.06 2.06-.94-2.06-.94-.94-2.06-.94 2.06-2.06.94zm-11 1L8.5 8.5l.94-2.06 2.06-.94-2.06-.94L8.5 2.5l-.94 2.06-2.06.94zm10 10l.94 2.06.94-2.06 2.06-.94-2.06-.94-.94-2.06-.94 2.06-2.06.94z\"/><path d=\"M17.41 7.96l-1.37-1.37c-.4-.4-.92-.59-1.43-.59-.52 0-1.04.2-1.43.59L10.3 9.45l-7.72 7.72c-.78.78-.78 2.05 0 2.83L4 21.41c.39.39.9.59 1.41.59.51 0 1.02-.2 1.41-.59l7.78-7.78 2.81-2.81c.8-.78.8-2.07 0-2.86zM5.41 20L4 18.59l7.72-7.72 1.47 1.35L5.41 20z\"/>\n",
              "  </svg>\n",
              "      </button>\n",
              "      \n",
              "  <style>\n",
              "    .colab-df-container {\n",
              "      display:flex;\n",
              "      flex-wrap:wrap;\n",
              "      gap: 12px;\n",
              "    }\n",
              "\n",
              "    .colab-df-convert {\n",
              "      background-color: #E8F0FE;\n",
              "      border: none;\n",
              "      border-radius: 50%;\n",
              "      cursor: pointer;\n",
              "      display: none;\n",
              "      fill: #1967D2;\n",
              "      height: 32px;\n",
              "      padding: 0 0 0 0;\n",
              "      width: 32px;\n",
              "    }\n",
              "\n",
              "    .colab-df-convert:hover {\n",
              "      background-color: #E2EBFA;\n",
              "      box-shadow: 0px 1px 2px rgba(60, 64, 67, 0.3), 0px 1px 3px 1px rgba(60, 64, 67, 0.15);\n",
              "      fill: #174EA6;\n",
              "    }\n",
              "\n",
              "    [theme=dark] .colab-df-convert {\n",
              "      background-color: #3B4455;\n",
              "      fill: #D2E3FC;\n",
              "    }\n",
              "\n",
              "    [theme=dark] .colab-df-convert:hover {\n",
              "      background-color: #434B5C;\n",
              "      box-shadow: 0px 1px 3px 1px rgba(0, 0, 0, 0.15);\n",
              "      filter: drop-shadow(0px 1px 2px rgba(0, 0, 0, 0.3));\n",
              "      fill: #FFFFFF;\n",
              "    }\n",
              "  </style>\n",
              "\n",
              "      <script>\n",
              "        const buttonEl =\n",
              "          document.querySelector('#df-720f9f5a-1f70-4526-8f27-443a27a31d24 button.colab-df-convert');\n",
              "        buttonEl.style.display =\n",
              "          google.colab.kernel.accessAllowed ? 'block' : 'none';\n",
              "\n",
              "        async function convertToInteractive(key) {\n",
              "          const element = document.querySelector('#df-720f9f5a-1f70-4526-8f27-443a27a31d24');\n",
              "          const dataTable =\n",
              "            await google.colab.kernel.invokeFunction('convertToInteractive',\n",
              "                                                     [key], {});\n",
              "          if (!dataTable) return;\n",
              "\n",
              "          const docLinkHtml = 'Like what you see? Visit the ' +\n",
              "            '<a target=\"_blank\" href=https://colab.research.google.com/notebooks/data_table.ipynb>data table notebook</a>'\n",
              "            + ' to learn more about interactive tables.';\n",
              "          element.innerHTML = '';\n",
              "          dataTable['output_type'] = 'display_data';\n",
              "          await google.colab.output.renderOutput(dataTable, element);\n",
              "          const docLink = document.createElement('div');\n",
              "          docLink.innerHTML = docLinkHtml;\n",
              "          element.appendChild(docLink);\n",
              "        }\n",
              "      </script>\n",
              "    </div>\n",
              "  </div>\n",
              "  "
            ]
          },
          "metadata": {},
          "execution_count": 26
        }
      ]
    }
  ]
}